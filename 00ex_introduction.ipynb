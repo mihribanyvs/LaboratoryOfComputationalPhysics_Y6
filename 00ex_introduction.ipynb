{
 "cells": [
  {
   "cell_type": "markdown",
   "metadata": {},
   "source": [
    "1. The MickeyMouse problem\n",
    "\n",
    "a) Write a program that prints the numbers from 1 to 100. But for multiples of 3 print `Mickey` instead of the corresponding number and for the multiples of 5 print `Mouse`. For numbers which are multiples of both three and five print `MickeyMouse`\n",
    "\n",
    "b) Put the result in a tuple and substitute `Mickey` with `Donald` and `Mouse` with `Duck`"
   ]
  },
  {
   "cell_type": "code",
   "execution_count": null,
   "metadata": {},
   "outputs": [],
   "source": [
    "#a\n",
    "\n",
    "my_tuple = ()\n",
    "for i in range(1,101):\n",
    "    \n",
    "    if i % 3 == 0 and i % 5 != 0:\n",
    "        #print(\"Mickey\")\n",
    "        my_tuple += (\"Mickey\",) \n",
    "    elif i % 5 == 0 and i % 3 != 0:\n",
    "        #print(\"Mouse\")\n",
    "        my_tuple += (\"Mouse\",)\n",
    "    elif i % 5 == 0 and i % 3 == 0:\n",
    "        #print(\"MickeyMouse\")\n",
    "        my_tuple += (\"MickeyMouse\",)\n",
    "    else:\n",
    "        #print(i)\n",
    "        my_tuple += (i,)\n",
    "\n",
    "#b\n",
    "\n",
    "my_list = list(my_tuple)\n",
    "for i in range(0,len(my_list)):\n",
    "    if(type(my_list[i]) == str):\n",
    "        my_list[i] = my_list[i].replace(\"Mickey\",\"Donald\")\n",
    "        my_list[i] = my_list[i].replace(\"Mouse\",\"Duck\")\n",
    "        \n",
    "print(my_list)"
   ]
  },
  {
   "cell_type": "markdown",
   "metadata": {},
   "source": [
    "2\\. The swap function\n",
    "\n",
    "Write a function that swap the values of two input variables x and y (whatever the type). Try to do that also without a temporary variable"
   ]
  },
  {
   "cell_type": "code",
   "execution_count": null,
   "metadata": {},
   "outputs": [],
   "source": [
    "#2\n",
    "\"\"\" def swap_function(x,y):\n",
    "    print(\"Your input x:\",x,\"your input y:\",y)\n",
    "    a = y\n",
    "    y = x\n",
    "    x = a\n",
    "    print(\"Your output x:\",x,\"your output y:\",y) \"\"\"\n",
    "\n",
    "def swap_function(x,y):\n",
    "    my_array = [x,y]\n",
    "    #print(\"Your input x:\",x,\"your input y:\",y)\n",
    "    y = my_array[0]\n",
    "    x = my_array[1]\n",
    "    #print(\"Your output x:\",x,\"your output y:\",y) \n",
    "\n",
    "swap_function(2,3)"
   ]
  },
  {
   "cell_type": "markdown",
   "metadata": {},
   "source": [
    "3\\. Computing the distance\n",
    "\n",
    "Write a function that calculates and returns the euclidean distance between two points *u* and *v*, where *u* and *v* are both 2-tuples *(x,y)*. For example, if *u=(3,0)* and *v=(0,4)*, the function should return 5"
   ]
  },
  {
   "cell_type": "code",
   "execution_count": null,
   "metadata": {},
   "outputs": [],
   "source": [
    "#3\n",
    "def distance_calculator(u, v):\n",
    "    distance = (((v[0] - u[0])**2) + ((v[1] - u[1])**2)) ** (1/2)\n",
    "    #print(distance)\n",
    "    return distance\n",
    "\n",
    "distance_calculator((3,0),(0,4))\n"
   ]
  },
  {
   "cell_type": "markdown",
   "metadata": {},
   "source": [
    "4\\. Counting letters\n",
    "\n",
    "Write a program to calculate the number of times each character occurs in a given string *s*. Ignore differneces in capitalization"
   ]
  },
  {
   "cell_type": "code",
   "execution_count": null,
   "metadata": {},
   "outputs": [],
   "source": [
    "s=\"Write a program that prints the numbers from 1 to 100. \\\n",
    "But for multiples of three print Mickey instead of the number and for the multiples of five print Mouse. \\\n",
    "For numbers which are multiples of both three and five print MickeyMouse\"\n",
    "\n",
    "#4\n",
    "def letter_counter(text):\n",
    "    list_of_letters = []\n",
    "    total_count = {}\n",
    "    text = text.lower()\n",
    "    for i in text:\n",
    "        if(i not in list_of_letters):\n",
    "            total_count.update({i:text.count(i)})\n",
    "            list_of_letters.append(i)\n",
    "    return total_count\n",
    "\n",
    "letter_counter(s)\n"
   ]
  },
  {
   "cell_type": "markdown",
   "metadata": {},
   "source": [
    "5\\. Isolating the unique\n",
    "\n",
    "Write a function that determines and count the unique numbers in the list *l*"
   ]
  },
  {
   "cell_type": "code",
   "execution_count": null,
   "metadata": {},
   "outputs": [],
   "source": [
    "l = [36, 45, 58, 3, 74, 96, 64, 45, 31, 10, 24, 19, 33, 86, 99, 18, 63, 70, 85,\n",
    " 85, 63, 47, 56, 42, 70, 84, 88, 55, 20, 54, 8, 56, 51, 79, 81, 57, 37, 91,\n",
    " 1, 84, 84, 36, 66, 9, 89, 50, 42, 91, 50, 95, 90, 98, 39, 16, 82, 31, 92, 41,\n",
    " 45, 30, 66, 70, 34, 85, 94, 5, 3, 36, 72, 91, 84, 34, 87, 75, 53, 51, 20, 89, 51, 20]\n",
    "\n",
    "def unique_number(l):\n",
    "    unique_elements = []\n",
    "    for i in l:\n",
    "        if l.count(i) == 1:\n",
    "            unique_elements.append(i)\n",
    "    print(\"number of unique elements\",len(unique_elements),\"unique elements\",unique_elements)\n",
    "    return(len(unique_elements), unique_elements)"
   ]
  },
  {
   "cell_type": "markdown",
   "metadata": {},
   "source": [
    "6\\. Combination of functions\n",
    "\n",
    "Write two functions - one that returns the square of a number, and one that returns the cube. Now write a third function that returns the number raised to the 6th power using the two previous functions."
   ]
  },
  {
   "cell_type": "code",
   "execution_count": null,
   "metadata": {},
   "outputs": [],
   "source": [
    "def square_fun(number):\n",
    "    return number ** 2\n",
    "\n",
    "def cube_fun(number):\n",
    "    return number ** 3\n",
    "\n",
    "def sixth_fun(number):\n",
    "    return cube_fun(square_fun(number))"
   ]
  },
  {
   "cell_type": "markdown",
   "metadata": {},
   "source": [
    "7\\. Cubes\n",
    "\n",
    "Create a list of the cubes of x for x in *[0, 10]* using:\n",
    "\n",
    "a) a for loop\n",
    "\n",
    "b) a list comprehension"
   ]
  },
  {
   "cell_type": "code",
   "execution_count": null,
   "metadata": {},
   "outputs": [],
   "source": [
    "'''a) for loop '''\n",
    "cubes_list = []\n",
    "for i in range(0,11):\n",
    "    cubes_list.append(i**3)\n",
    "\n",
    "'''b) list comprehension '''\n",
    "cubes_list2 = [x**3 for x in range(0,11)]"
   ]
  },
  {
   "cell_type": "markdown",
   "metadata": {},
   "source": [
    "8\\. Nested list comprehension\n",
    "\n",
    "A Pythagorean triple is an integer solution to the Pythagorean theorem $a^2+b^2=c^2$. The first Pythagorean triple is (3,4,5). Find and put in a tuple all unique Pythagorean triples for the positive integers a, b and c less than 100."
   ]
  },
  {
   "cell_type": "code",
   "execution_count": null,
   "metadata": {},
   "outputs": [],
   "source": [
    "pyth_triples = [(a,b,c) for a in range(0,101) for b in range(0,101) for c in range(0,101) if a < b < c and (a**2 + b**2 == c**2)]"
   ]
  },
  {
   "cell_type": "markdown",
   "metadata": {},
   "source": [
    "9\\. Normalization\n",
    "\n",
    "Write a function that takes a tuple of numbers and returns it with the entries normalized to one"
   ]
  },
  {
   "cell_type": "code",
   "execution_count": null,
   "metadata": {},
   "outputs": [],
   "source": [
    "def normalizer(my_tuple):\n",
    "    min_value = min(my_tuple)\n",
    "    max_value = max(my_tuple)\n",
    "    new_list = [(x - min_value)/(max_value - min_value) if(max_value - min_value != 0) else \"Not defined\" for x in my_tuple ]\n",
    "    return tuple(new_list)"
   ]
  }
 ],
 "metadata": {
  "kernelspec": {
   "display_name": "Python 3 (ipykernel)",
   "language": "python",
   "name": "python3"
  },
  "language_info": {
   "codemirror_mode": {
    "name": "ipython",
    "version": 3
   },
   "file_extension": ".py",
   "mimetype": "text/x-python",
   "name": "python",
   "nbconvert_exporter": "python",
   "pygments_lexer": "ipython3",
   "version": "3.11.1"
  }
 },
 "nbformat": 4,
 "nbformat_minor": 2
}
